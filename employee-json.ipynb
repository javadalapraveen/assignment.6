{
 "cells": [
  {
   "cell_type": "code",
   "execution_count": 1,
   "metadata": {},
   "outputs": [
    {
     "name": "stdout",
     "output_type": "stream",
     "text": [
      "the list of employees {'employees': [{'name': 'Abrahim', 'dob': '1990-01-01', 'height': '190', 'city': 'clafornia', 'state': 'ny'}, {'name': 'vinpaul', 'dob': '2001-08-22', 'height': '198', 'city': 'east godavari', 'state': 'andhra pradesh'}, {'name': 'tom', 'dob': '1994-05-02', 'height': '175', 'city': 'houston', 'state': 'TX'}, {'name': 'alice', 'dob': '1997-04-03', 'height': '178', 'city': 'philadelphia', 'state': 'pa'}, {'name': 'emmanuel', 'dob': '1996-08-02', 'height': '191', 'city': 'sydney', 'state': 'Syd'}]}\n"
     ]
    }
   ],
   "source": [
    "import json\n",
    "\n",
    "dict={\n",
    "    \"employees\":[\n",
    "        {\n",
    "            \"name\": \"Abrahim\",\n",
    "            \"dob\":\"1990-01-01\",\n",
    "            \"height\":\"190\",\n",
    "            \"city\":\"clafornia\",\n",
    "            \"state\":\"ny\"\n",
    "        },\n",
    "\n",
    "        {\n",
    "            \"name\":\"vinpaul\",\n",
    "            \"dob\":\"2001-08-22\",\n",
    "            \"height\":\"198\",\n",
    "            \"city\":\"east godavari\",\n",
    "            \"state\":\"andhra pradesh\"\n",
    "\n",
    "        },\n",
    "     \n",
    "        {\n",
    "            \"name\":\"tom\",\n",
    "            \"dob\":\"1994-05-02\",\n",
    "            \"height\":\"175\",\n",
    "            \"city\":\"houston\",\n",
    "            \"state\":\"TX\"\n",
    "        },\n",
    "\n",
    "        {\n",
    "            \"name\":\"alice\",\n",
    "            \"dob\":\"1997-04-03\",\n",
    "            \"height\":\"178\",\n",
    "            \"city\":\"philadelphia\",\n",
    "            \"state\":\"pa\"\n",
    "\n",
    "        },\n",
    "       \n",
    "        {\n",
    "            \"name\":\"emmanuel\",\n",
    "            \"dob\":\"1996-08-02\",\n",
    "            \"height\":\"191\",\n",
    "            \"city\":\"sydney\",\n",
    "            \"state\":\"Syd\"\n",
    "        }\n",
    "    ]\n",
    "}\n",
    "\n",
    "file=open(\"new_employee.json\",\"w\")\n",
    "json.dump(dict,file)\n",
    "file.close()\n",
    "\n",
    "class employee:\n",
    "\n",
    "    def __init__(self):\n",
    "        self.name=None\n",
    "        self.dob=None\n",
    "        self.height=None\n",
    "        self.city=None\n",
    "        self.state=None\n",
    "\n",
    "    def employee_1(self):\n",
    "        with open (\"new_employee.json\") as f:\n",
    "            \n",
    "            self.employee_1=json.load(f)\n",
    "\n",
    "            print(\"the list of employees\",self.employee_1)\n",
    "            #return self.employee_1\n",
    "\n",
    "abbs=employee()\n",
    "abbs.employee_1()    \n",
    "\n",
    "\n"
   ]
  }
 ],
 "metadata": {
  "kernelspec": {
   "display_name": "Python 3",
   "language": "python",
   "name": "python3"
  },
  "language_info": {
   "codemirror_mode": {
    "name": "ipython",
    "version": 3
   },
   "file_extension": ".py",
   "mimetype": "text/x-python",
   "name": "python",
   "nbconvert_exporter": "python",
   "pygments_lexer": "ipython3",
   "version": "3.11.4"
  },
  "orig_nbformat": 4
 },
 "nbformat": 4,
 "nbformat_minor": 2
}
