{
 "cells": [
  {
   "cell_type": "code",
   "execution_count": 1,
   "metadata": {},
   "outputs": [
    {
     "data": {
      "text/plain": [
       "{'andhra pradesh': 'amaravathi',\n",
       " 'uttar pradesh': 'lucknow',\n",
       " 'rajasthan': 'jaipur',\n",
       " 'haryana': 'chandigarh',\n",
       " 'karnataka': 'bengaluru',\n",
       " 'telanagana': 'hyderabad',\n",
       " 'tamilnadu': 'chennai'}"
      ]
     },
     "execution_count": 1,
     "metadata": {},
     "output_type": "execute_result"
    }
   ],
   "source": [
    "import json\n",
    "\n",
    "states_capital={\n",
    "    \"andhra pradesh\":\"amaravathi\",\n",
    "    \"uttar pradesh\":\"lucknow\",\n",
    "    \"rajasthan\":\"jaipur\",\n",
    "    \"haryana\":\"chandigarh\",\n",
    "    \"karnataka\":\"bengaluru\",\n",
    "    \"telanagana\":\"hyderabad\",\n",
    "    \"tamilnadu\":\"chennai\"\n",
    "}\n",
    "\n",
    "with open (\"states_and_capitals.json\",\"w\") as f:\n",
    "    json.dump(states_capital,f)\n",
    "    f.close()\n",
    "\n",
    "data= open(\"states_and_capitals.json\",\"r\")\n",
    "\n",
    "json.load(data)\n"
   ]
  }
 ],
 "metadata": {
  "kernelspec": {
   "display_name": "Python 3",
   "language": "python",
   "name": "python3"
  },
  "language_info": {
   "codemirror_mode": {
    "name": "ipython",
    "version": 3
   },
   "file_extension": ".py",
   "mimetype": "text/x-python",
   "name": "python",
   "nbconvert_exporter": "python",
   "pygments_lexer": "ipython3",
   "version": "3.11.4"
  },
  "orig_nbformat": 4
 },
 "nbformat": 4,
 "nbformat_minor": 2
}
